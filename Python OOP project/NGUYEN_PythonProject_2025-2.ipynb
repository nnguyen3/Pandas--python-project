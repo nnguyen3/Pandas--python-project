{
 "cells": [
  {
   "cell_type": "code",
   "execution_count": 790,
   "metadata": {},
   "outputs": [],
   "source": [
    "exec(open(\"Nguyen_OOP_FinalProj_2025.py\").read())\n",
    "\n"
   ]
  },
  {
   "cell_type": "markdown",
   "metadata": {},
   "source": [
    "## Put this file in the same directory as your python script. Change the name of the file in the next line to test your code. "
   ]
  },
  {
   "cell_type": "markdown",
   "metadata": {},
   "source": [
    "# TEST SEQ CLASS"
   ]
  },
  {
   "cell_type": "markdown",
   "metadata": {},
   "source": [
    "## Make instance of Seq called 's' and test methods "
   ]
  },
  {
   "cell_type": "code",
   "execution_count": 754,
   "metadata": {},
   "outputs": [
    {
     "name": "stdout",
     "output_type": "stream",
     "text": [
      "H.sapiens my_gene : GATATAGGACCTTTAGGACCAC\n"
     ]
    }
   ],
   "source": [
    "s=Seq(\"  gATATAGGACctttaGGACCAC  \",\"my_gene\",\"H.sapiens\")\n",
    "s.print_record()\n",
    "s.make_kmers()\n",
    "a=s.kmers"
   ]
  },
  {
   "cell_type": "code",
   "execution_count": 756,
   "metadata": {},
   "outputs": [],
   "source": [
    "t=Seq(\" AGAGAGAGTGTTGT\",'gene2','D')"
   ]
  },
  {
   "cell_type": "code",
   "execution_count": 758,
   "metadata": {},
   "outputs": [
    {
     "name": "stdout",
     "output_type": "stream",
     "text": [
      "D gene2 : AGAGAGAGTGTTGT\n"
     ]
    }
   ],
   "source": [
    "t.print_record()\n",
    "t.make_kmers()\n",
    "b=t.kmers\n",
    "out=set(a) & set(b)"
   ]
  },
  {
   "cell_type": "code",
   "execution_count": 760,
   "metadata": {},
   "outputs": [
    {
     "name": "stdout",
     "output_type": "stream",
     "text": [
      "H.sapiens my_gene : GATATAGGACCTTTAGGACCAC\n",
      "my_gene\n",
      "H.sapiens\n"
     ]
    }
   ],
   "source": [
    "print(s)\n",
    "print(s.gene)\n",
    "print(s.species)"
   ]
  },
  {
   "cell_type": "code",
   "execution_count": 762,
   "metadata": {},
   "outputs": [
    {
     "name": "stdout",
     "output_type": "stream",
     "text": [
      "['GATAT', 'ATATA', 'TATAG', 'ATAGG', 'TAGGA', 'AGGAC', 'GGACC', 'GACCT', 'ACCTT', 'CCTTT', 'CTTTA', 'TTTAG', 'TTAGG', 'TAGGA', 'AGGAC', 'GGACC', 'GACCA', 'ACCAC']\n"
     ]
    }
   ],
   "source": [
    "s.make_kmers(5)\n",
    "print(s.kmers)"
   ]
  },
  {
   "cell_type": "code",
   "execution_count": 792,
   "metadata": {},
   "outputs": [
    {
     "name": "stdout",
     "output_type": "stream",
     "text": [
      ">H.sapiens my_gene\n",
      "GATATAGGACCTTTAGGACCAC\n"
     ]
    }
   ],
   "source": [
    "print(s.fasta())"
   ]
  },
  {
   "cell_type": "markdown",
   "metadata": {},
   "source": [
    "# TEST DNA CLASS"
   ]
  },
  {
   "cell_type": "markdown",
   "metadata": {},
   "source": [
    "## Make instance of DNA called 'd' and test methods "
   ]
  },
  {
   "cell_type": "code",
   "execution_count": 796,
   "metadata": {},
   "outputs": [
    {
     "data": {
      "text/plain": [
       "'AX5667 D.terebrans my_dna : NTCAAAGCGGCGGATCTCCCAAATGA'"
      ]
     },
     "execution_count": 796,
     "metadata": {},
     "output_type": "execute_result"
    }
   ],
   "source": [
    "d=DNA(\"  -tcaaaGCGGCGGATCTCCCaaatga\\n\",\"my_dna\",\"D.terebrans\",\"AX5667\")\n",
    "d.print_info()"
   ]
  },
  {
   "cell_type": "code",
   "execution_count": 798,
   "metadata": {},
   "outputs": [
    {
     "name": "stdout",
     "output_type": "stream",
     "text": [
      "D.terebrans my_dna : NTCAAAGCGGCGGATCTCCCAAATGA\n",
      "(6, 7)\n",
      ">D.terebrans my_dna\n",
      "NTCAAAGCGGCGGATCTCCCAAATGA\n"
     ]
    }
   ],
   "source": [
    "print(d)\n",
    "print(d.analysis())\n",
    "print(d.fasta())"
   ]
  },
  {
   "cell_type": "code",
   "execution_count": 800,
   "metadata": {},
   "outputs": [
    {
     "name": "stdout",
     "output_type": "stream",
     "text": [
      "TCATTTGGGAGATCCGCCGCTTTGAN\n"
     ]
    }
   ],
   "source": [
    "rc=d.reverse_complement()\n",
    "print(rc)"
   ]
  },
  {
   "cell_type": "code",
   "execution_count": 802,
   "metadata": {},
   "outputs": [
    {
     "name": "stdout",
     "output_type": "stream",
     "text": [
      "['NTCAAAGCGGCGGATCTCCCAAATGA', 'TCAAAGCGGCGGATCTCCCAAATGA', 'CAAAGCGGCGGATCTCCCAAATGA', 'TCATTTGGGAGATCCGCCGCTTTGAN', 'CATTTGGGAGATCCGCCGCTTTGAN', 'ATTTGGGAGATCCGCCGCTTTGAN']\n"
     ]
    }
   ],
   "source": [
    "all_6_frames=d.six_frames()\n",
    "print(all_6_frames)"
   ]
  },
  {
   "cell_type": "markdown",
   "metadata": {},
   "source": [
    "# TEST RNA CLASS"
   ]
  },
  {
   "cell_type": "markdown",
   "metadata": {},
   "source": [
    "## Make instance of RNA called 'r' and test methods "
   ]
  },
  {
   "cell_type": "code",
   "execution_count": 810,
   "metadata": {},
   "outputs": [
    {
     "name": "stdout",
     "output_type": "stream",
     "text": [
      "G.gallus my_rna : GNAUAUAGGACCUUUAGGACCAC\n"
     ]
    }
   ],
   "source": [
    "r=RNA(\"  g?ATATAGGACctttaGGACCAC  \",\"my_rna\",\"G.gallus\",\"R5990999\")\n",
    "r.print_info()\n",
    "print(r)"
   ]
  },
  {
   "cell_type": "code",
   "execution_count": 812,
   "metadata": {},
   "outputs": [
    {
     "name": "stdout",
     "output_type": "stream",
     "text": [
      "['GNA', 'UAU', 'AGG', 'ACC', 'UUU', 'AGG', 'ACC']\n"
     ]
    }
   ],
   "source": [
    "r.make_codons()\n",
    "print(r.codons)"
   ]
  },
  {
   "cell_type": "code",
   "execution_count": 814,
   "metadata": {},
   "outputs": [
    {
     "name": "stdout",
     "output_type": "stream",
     "text": [
      "XYRTFRT\n"
     ]
    }
   ],
   "source": [
    "print(r.translate())"
   ]
  },
  {
   "cell_type": "code",
   "execution_count": 815,
   "metadata": {},
   "outputs": [
    {
     "name": "stdout",
     "output_type": "stream",
     "text": [
      ">G.gallus my_rna\n",
      "GNAUAUAGGACCUUUAGGACCAC\n"
     ]
    }
   ],
   "source": [
    "print(r.fasta())"
   ]
  },
  {
   "cell_type": "markdown",
   "metadata": {},
   "source": [
    "# TEST Protein CLASS"
   ]
  },
  {
   "cell_type": "markdown",
   "metadata": {},
   "source": [
    "## Make instance of Protein called 'p' and test methods "
   ]
  },
  {
   "cell_type": "code",
   "execution_count": 820,
   "metadata": {},
   "outputs": [
    {
     "name": "stdout",
     "output_type": "stream",
     "text": [
      "D.melanogaster my_prot : XWCVALKKKCCYHHHHHXYYYRSQX\n"
     ]
    }
   ],
   "source": [
    "p=Protein(\" WCVALKKKCCYhhhhh-yyyrsQ\\t\",\"my_prot\",\"D.melanogaster\",\"56008009\")\n",
    "print(p)"
   ]
  },
  {
   "cell_type": "code",
   "execution_count": 822,
   "metadata": {},
   "outputs": [
    {
     "name": "stdout",
     "output_type": "stream",
     "text": [
      ">D.melanogaster my_prot\n",
      "XWCVALKKKCCYHHHHHXYYYRSQX\n"
     ]
    }
   ],
   "source": [
    "print(p.fasta())"
   ]
  },
  {
   "cell_type": "code",
   "execution_count": 824,
   "metadata": {},
   "outputs": [
    {
     "name": "stdout",
     "output_type": "stream",
     "text": [
      "[]\n"
     ]
    }
   ],
   "source": [
    "print(p.kmers)"
   ]
  },
  {
   "cell_type": "code",
   "execution_count": 826,
   "metadata": {},
   "outputs": [
    {
     "name": "stdout",
     "output_type": "stream",
     "text": [
      "['XWCVA', 'WCVAL', 'CVALK', 'VALKK', 'ALKKK', 'LKKKC', 'KKKCC', 'KKCCY', 'KCCYH', 'CCYHH', 'CYHHH', 'YHHHH', 'HHHHH', 'HHHHX', 'HHHXY', 'HHXYY', 'HXYYY', 'XYYYR', 'YYYRS', 'YYRSQ', 'YRSQX']\n"
     ]
    }
   ],
   "source": [
    "p.kmers=[]\n",
    "p.make_kmers(5)\n",
    "print(p.kmers)"
   ]
  },
  {
   "cell_type": "code",
   "execution_count": 828,
   "metadata": {},
   "outputs": [],
   "source": [
    "testp=Protein('VIKING','test','unknown',999)"
   ]
  },
  {
   "cell_type": "code",
   "execution_count": 830,
   "metadata": {},
   "outputs": [
    {
     "name": "stdout",
     "output_type": "stream",
     "text": [
      "unknown test : VIKING\n"
     ]
    }
   ],
   "source": [
    "print(testp)"
   ]
  },
  {
   "cell_type": "code",
   "execution_count": 832,
   "metadata": {},
   "outputs": [
    {
     "name": "stdout",
     "output_type": "stream",
     "text": [
      "['VI', 'IK', 'KI', 'IN', 'NG']\n"
     ]
    }
   ],
   "source": [
    "testp.make_kmers(2)\n",
    "print(testp.kmers)"
   ]
  },
  {
   "cell_type": "code",
   "execution_count": 834,
   "metadata": {},
   "outputs": [
    {
     "name": "stdout",
     "output_type": "stream",
     "text": [
      "5.399999999999999\n"
     ]
    }
   ],
   "source": [
    "x=testp.total_hydro()\n",
    "print(x)"
   ]
  },
  {
   "cell_type": "code",
   "execution_count": 836,
   "metadata": {},
   "outputs": [
    {
     "name": "stdout",
     "output_type": "stream",
     "text": [
      "732.8699999999999\n"
     ]
    }
   ],
   "source": [
    "m=testp.mol_weight()\n",
    "print(m)"
   ]
  },
  {
   "cell_type": "code",
   "execution_count": null,
   "metadata": {},
   "outputs": [],
   "source": []
  },
  {
   "cell_type": "code",
   "execution_count": null,
   "metadata": {},
   "outputs": [],
   "source": []
  },
  {
   "cell_type": "code",
   "execution_count": null,
   "metadata": {},
   "outputs": [],
   "source": []
  },
  {
   "cell_type": "code",
   "execution_count": null,
   "metadata": {},
   "outputs": [],
   "source": []
  },
  {
   "cell_type": "code",
   "execution_count": null,
   "metadata": {},
   "outputs": [],
   "source": []
  },
  {
   "cell_type": "code",
   "execution_count": null,
   "metadata": {},
   "outputs": [],
   "source": []
  },
  {
   "cell_type": "code",
   "execution_count": null,
   "metadata": {},
   "outputs": [],
   "source": []
  }
 ],
 "metadata": {
  "kernelspec": {
   "display_name": "Python [conda env:base] *",
   "language": "python",
   "name": "conda-base-py"
  },
  "language_info": {
   "codemirror_mode": {
    "name": "ipython",
    "version": 3
   },
   "file_extension": ".py",
   "mimetype": "text/x-python",
   "name": "python",
   "nbconvert_exporter": "python",
   "pygments_lexer": "ipython3",
   "version": "3.12.7"
  }
 },
 "nbformat": 4,
 "nbformat_minor": 4
}
